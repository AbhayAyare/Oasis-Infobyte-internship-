{
  "nbformat": 4,
  "nbformat_minor": 0,
  "metadata": {
    "colab": {
      "provenance": []
    },
    "kernelspec": {
      "name": "python3",
      "display_name": "Python 3"
    },
    "language_info": {
      "name": "python"
    }
  },
  "cells": [
    {
      "cell_type": "markdown",
      "source": [
        "# Spam_detection_system"
      ],
      "metadata": {
        "id": "YOfyXtBuMzrj"
      }
    },
    {
      "cell_type": "markdown",
      "source": [
        "1. Import libraries\n"
      ],
      "metadata": {
        "id": "k1LdykZtMG7u"
      }
    },
    {
      "cell_type": "code",
      "execution_count": 17,
      "metadata": {
        "id": "FAbv8z6WIdnf"
      },
      "outputs": [],
      "source": [
        "import pandas as pd\n",
        "import numpy as np\n",
        "import re\n",
        "import matplotlib.pyplot as plt\n",
        "import seaborn as sns\n",
        "\n",
        "from sklearn.model_selection import train_test_split\n",
        "from sklearn.feature_extraction.text import TfidfVectorizer\n",
        "from sklearn.preprocessing import LabelEncoder\n",
        "from sklearn.naive_bayes import MultinomialNB\n",
        "from sklearn.svm import SVC\n",
        "from sklearn.ensemble import RandomForestClassifier\n",
        "from sklearn.metrics import accuracy_score, precision_score, recall_score, f1_score, confusion_matrix"
      ]
    },
    {
      "cell_type": "markdown",
      "source": [
        "2. Load dataset"
      ],
      "metadata": {
        "id": "xj8ZDLguMLev"
      }
    },
    {
      "cell_type": "code",
      "source": [
        "df = pd.read_csv(\"spam.csv\", encoding='latin-1')\n",
        "df = df.drop(columns=['Unnamed: 2', 'Unnamed: 3', 'Unnamed: 4'])\n",
        "df = df.rename(columns={'v1': 'label', 'v2': 'text'})\n"
      ],
      "metadata": {
        "id": "VbpINx2SJO6U"
      },
      "execution_count": 18,
      "outputs": []
    },
    {
      "cell_type": "markdown",
      "source": [
        "3. Clean the text"
      ],
      "metadata": {
        "id": "t094Alx0MPFG"
      }
    },
    {
      "cell_type": "code",
      "source": [
        "df['text'] = df['text'].str.lower()\n",
        "df['text'] = df['text'].str.replace(r\"[^a-z0-9\\s]\", \" \", regex=True)\n",
        "df['text'] = df['text'].str.replace(r'\\s+', ' ', regex=True).str.strip()"
      ],
      "metadata": {
        "id": "AaM6oLy6LmFz"
      },
      "execution_count": 19,
      "outputs": []
    },
    {
      "cell_type": "markdown",
      "source": [
        "4. Encode labels"
      ],
      "metadata": {
        "id": "pI-hxXfzMTWn"
      }
    },
    {
      "cell_type": "code",
      "source": [
        "le = LabelEncoder()\n",
        "df['label_encoded'] = le.fit_transform(df['label'])"
      ],
      "metadata": {
        "id": "O2WRlh8OLm7L"
      },
      "execution_count": 20,
      "outputs": []
    },
    {
      "cell_type": "markdown",
      "source": [
        "5. TF-IDF Vectorization"
      ],
      "metadata": {
        "id": "HatSb7hKMYkh"
      }
    },
    {
      "cell_type": "code",
      "source": [
        "tfidf = TfidfVectorizer(stop_words='english', max_df=0.9, min_df=2, ngram_range=(1,2))\n",
        "X = tfidf.fit_transform(df['text'])\n",
        "y = df['label_encoded']"
      ],
      "metadata": {
        "id": "UbCpPBtkLp_T"
      },
      "execution_count": 21,
      "outputs": []
    },
    {
      "cell_type": "markdown",
      "source": [
        "6. Split the data"
      ],
      "metadata": {
        "id": "BdixtBpwMcE4"
      }
    },
    {
      "cell_type": "code",
      "source": [
        "X_train, X_test, y_train, y_test = train_test_split(\n",
        "    X, y, test_size=0.2, random_state=42\n",
        ")"
      ],
      "metadata": {
        "id": "6rdEmu32LrkU"
      },
      "execution_count": 22,
      "outputs": []
    },
    {
      "cell_type": "markdown",
      "source": [
        "7. Train models"
      ],
      "metadata": {
        "id": "6M0ARh4BMfmR"
      }
    },
    {
      "cell_type": "code",
      "source": [
        "nb = MultinomialNB()\n",
        "nb.fit(X_train, y_train)\n",
        "y_pred_nb = nb.predict(X_test)\n",
        "\n",
        "rf = RandomForestClassifier(n_estimators=150, random_state=42)\n",
        "rf.fit(X_train, y_train)\n",
        "y_pred_rf = rf.predict(X_test)\n",
        "\n",
        "svm = SVC(kernel='linear', probability=True, random_state=42)\n",
        "svm.fit(X_train, y_train)\n",
        "y_pred_svm = svm.predict(X_test)\n"
      ],
      "metadata": {
        "id": "kdaFNUL1LsMi"
      },
      "execution_count": 23,
      "outputs": []
    },
    {
      "cell_type": "markdown",
      "source": [
        "8. Evaluate models"
      ],
      "metadata": {
        "id": "sIes2maJMjkY"
      }
    },
    {
      "cell_type": "code",
      "source": [
        "def evaluate_model(name, y_true, y_pred):\n",
        "    print(f\"\\n--- {name} ---\")\n",
        "    print(\"Accuracy :\", round(accuracy_score(y_true, y_pred), 4))\n",
        "    print(\"Precision:\", round(precision_score(y_true, y_pred), 4))\n",
        "    print(\"Recall   :\", round(recall_score(y_true, y_pred), 4))\n",
        "    print(\"F1-Score :\", round(f1_score(y_true, y_pred), 4))\n",
        "    print(\"Confusion Matrix:\\n\", confusion_matrix(y_true, y_pred))\n",
        "\n",
        "evaluate_model(\"Naive Bayes\", y_test, y_pred_nb)\n",
        "evaluate_model(\"Random Forest\", y_test, y_pred_rf)\n",
        "evaluate_model(\"SVM\", y_test, y_pred_svm)"
      ],
      "metadata": {
        "colab": {
          "base_uri": "https://localhost:8080/"
        },
        "id": "M5K721uaLuhT",
        "outputId": "e44d82a3-be81-4cee-a18b-0f05de954862"
      },
      "execution_count": 24,
      "outputs": [
        {
          "output_type": "stream",
          "name": "stdout",
          "text": [
            "\n",
            "--- Naive Bayes ---\n",
            "Accuracy : 0.974\n",
            "Precision: 1.0\n",
            "Recall   : 0.8067\n",
            "F1-Score : 0.893\n",
            "Confusion Matrix:\n",
            " [[965   0]\n",
            " [ 29 121]]\n",
            "\n",
            "--- Random Forest ---\n",
            "Accuracy : 0.9776\n",
            "Precision: 0.9921\n",
            "Recall   : 0.84\n",
            "F1-Score : 0.9097\n",
            "Confusion Matrix:\n",
            " [[964   1]\n",
            " [ 24 126]]\n",
            "\n",
            "--- SVM ---\n",
            "Accuracy : 0.9776\n",
            "Precision: 0.9771\n",
            "Recall   : 0.8533\n",
            "F1-Score : 0.911\n",
            "Confusion Matrix:\n",
            " [[962   3]\n",
            " [ 22 128]]\n"
          ]
        }
      ]
    },
    {
      "cell_type": "markdown",
      "source": [
        "9. Predict on new message"
      ],
      "metadata": {
        "id": "6q_PIFZ0Mn5h"
      }
    },
    {
      "cell_type": "code",
      "source": [
        "def predict_spam(message, model=nb):\n",
        "    message = message.lower()\n",
        "    message = re.sub(r\"[^a-z0-9\\s]\", \" \", message)\n",
        "    message = re.sub(r'\\s+', ' ', message).strip()\n",
        "    message_tfidf = tfidf.transform([message])\n",
        "    prediction_encoded = model.predict(message_tfidf)\n",
        "    prediction_label = le.inverse_transform(prediction_encoded)\n",
        "    return prediction_label[0]\n",
        "\n",
        "# 🧪 Example usage\n",
        "test_message1 = \"Congratulations! You've won a free cruise! Call now to claim your prize.\"\n",
        "test_message2 = \"Hey, just wanted to remind you about our meeting tomorrow.\"\n",
        "\n",
        "print(\"\\n\")\n",
        "print(f\"'{test_message1}' ➜ {predict_spam(test_message1)}\")\n",
        "print(f\"'{test_message2}' ➜ {predict_spam(test_message2)}\")"
      ],
      "metadata": {
        "colab": {
          "base_uri": "https://localhost:8080/"
        },
        "id": "2IjKGTdwLxQc",
        "outputId": "fa822385-0dae-44a3-c139-c24e5349cd4f"
      },
      "execution_count": 25,
      "outputs": [
        {
          "output_type": "stream",
          "name": "stdout",
          "text": [
            "\n",
            "\n",
            "'Congratulations! You've won a free cruise! Call now to claim your prize.' ➜ spam\n",
            "'Hey, just wanted to remind you about our meeting tomorrow.' ➜ ham\n"
          ]
        }
      ]
    },
    {
      "cell_type": "markdown",
      "source": [
        "10. Insights & interpretation  \n",
        "- Discuss which model performed best and why.  \n",
        "- Identify common words/features in spam vs ham (you can check top TFIDF features).  \n",
        "- Understand false positives / false negatives and their impact.  \n"
      ],
      "metadata": {
        "id": "6wivIxYvKSYL"
      }
    }
  ]
}